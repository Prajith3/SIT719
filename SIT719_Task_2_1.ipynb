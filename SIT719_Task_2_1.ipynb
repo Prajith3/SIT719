{
  "nbformat": 4,
  "nbformat_minor": 0,
  "metadata": {
    "colab": {
      "provenance": [],
      "authorship_tag": "ABX9TyOUUtYFy0PcOLii2dK7SHjx",
      "include_colab_link": true
    },
    "kernelspec": {
      "name": "python3",
      "display_name": "Python 3"
    },
    "language_info": {
      "name": "python"
    }
  },
  "cells": [
    {
      "cell_type": "markdown",
      "metadata": {
        "id": "view-in-github",
        "colab_type": "text"
      },
      "source": [
        "<a href=\"https://colab.research.google.com/github/Prajith3/SIT719/blob/main/SIT719_Task_2_1.ipynb\" target=\"_parent\"><img src=\"https://colab.research.google.com/assets/colab-badge.svg\" alt=\"Open In Colab\"/></a>"
      ]
    },
    {
      "cell_type": "markdown",
      "source": [
        "**Step 1**"
      ],
      "metadata": {
        "id": "hzqN3orFLzjE"
      }
    },
    {
      "cell_type": "code",
      "execution_count": 24,
      "metadata": {
        "id": "MN6ZyxhEgvag"
      },
      "outputs": [],
      "source": [
        "import pandas as pd\n",
        "import numpy as np"
      ]
    },
    {
      "cell_type": "markdown",
      "source": [
        "**Step 2**"
      ],
      "metadata": {
        "id": "62Kzq6CkL2Ff"
      }
    },
    {
      "cell_type": "code",
      "source": [
        "url = \"https://archive.ics.uci.edu/ml/machine-learning-databases/iris/iris.data\" #Importing dataset from the url\n",
        "iris = pd.read_csv(url) #read the dataset\n",
        "iris.head() #prints the first 5 rows of the dataset"
      ],
      "metadata": {
        "colab": {
          "base_uri": "https://localhost:8080/",
          "height": 201
        },
        "id": "ZUk-hilchE8V",
        "outputId": "757479ca-da70-4724-e95d-b01d9e022a92"
      },
      "execution_count": 25,
      "outputs": [
        {
          "output_type": "execute_result",
          "data": {
            "text/plain": [
              "   5.1  3.5  1.4  0.2  Iris-setosa\n",
              "0  4.9  3.0  1.4  0.2  Iris-setosa\n",
              "1  4.7  3.2  1.3  0.2  Iris-setosa\n",
              "2  4.6  3.1  1.5  0.2  Iris-setosa\n",
              "3  5.0  3.6  1.4  0.2  Iris-setosa\n",
              "4  5.4  3.9  1.7  0.4  Iris-setosa"
            ],
            "text/html": [
              "\n",
              "\n",
              "  <div id=\"df-94c5bf1f-5df7-45d3-bd8e-a4f404dffb88\">\n",
              "    <div class=\"colab-df-container\">\n",
              "      <div>\n",
              "<style scoped>\n",
              "    .dataframe tbody tr th:only-of-type {\n",
              "        vertical-align: middle;\n",
              "    }\n",
              "\n",
              "    .dataframe tbody tr th {\n",
              "        vertical-align: top;\n",
              "    }\n",
              "\n",
              "    .dataframe thead th {\n",
              "        text-align: right;\n",
              "    }\n",
              "</style>\n",
              "<table border=\"1\" class=\"dataframe\">\n",
              "  <thead>\n",
              "    <tr style=\"text-align: right;\">\n",
              "      <th></th>\n",
              "      <th>5.1</th>\n",
              "      <th>3.5</th>\n",
              "      <th>1.4</th>\n",
              "      <th>0.2</th>\n",
              "      <th>Iris-setosa</th>\n",
              "    </tr>\n",
              "  </thead>\n",
              "  <tbody>\n",
              "    <tr>\n",
              "      <th>0</th>\n",
              "      <td>4.9</td>\n",
              "      <td>3.0</td>\n",
              "      <td>1.4</td>\n",
              "      <td>0.2</td>\n",
              "      <td>Iris-setosa</td>\n",
              "    </tr>\n",
              "    <tr>\n",
              "      <th>1</th>\n",
              "      <td>4.7</td>\n",
              "      <td>3.2</td>\n",
              "      <td>1.3</td>\n",
              "      <td>0.2</td>\n",
              "      <td>Iris-setosa</td>\n",
              "    </tr>\n",
              "    <tr>\n",
              "      <th>2</th>\n",
              "      <td>4.6</td>\n",
              "      <td>3.1</td>\n",
              "      <td>1.5</td>\n",
              "      <td>0.2</td>\n",
              "      <td>Iris-setosa</td>\n",
              "    </tr>\n",
              "    <tr>\n",
              "      <th>3</th>\n",
              "      <td>5.0</td>\n",
              "      <td>3.6</td>\n",
              "      <td>1.4</td>\n",
              "      <td>0.2</td>\n",
              "      <td>Iris-setosa</td>\n",
              "    </tr>\n",
              "    <tr>\n",
              "      <th>4</th>\n",
              "      <td>5.4</td>\n",
              "      <td>3.9</td>\n",
              "      <td>1.7</td>\n",
              "      <td>0.4</td>\n",
              "      <td>Iris-setosa</td>\n",
              "    </tr>\n",
              "  </tbody>\n",
              "</table>\n",
              "</div>\n",
              "      <button class=\"colab-df-convert\" onclick=\"convertToInteractive('df-94c5bf1f-5df7-45d3-bd8e-a4f404dffb88')\"\n",
              "              title=\"Convert this dataframe to an interactive table.\"\n",
              "              style=\"display:none;\">\n",
              "\n",
              "  <svg xmlns=\"http://www.w3.org/2000/svg\" height=\"24px\"viewBox=\"0 0 24 24\"\n",
              "       width=\"24px\">\n",
              "    <path d=\"M0 0h24v24H0V0z\" fill=\"none\"/>\n",
              "    <path d=\"M18.56 5.44l.94 2.06.94-2.06 2.06-.94-2.06-.94-.94-2.06-.94 2.06-2.06.94zm-11 1L8.5 8.5l.94-2.06 2.06-.94-2.06-.94L8.5 2.5l-.94 2.06-2.06.94zm10 10l.94 2.06.94-2.06 2.06-.94-2.06-.94-.94-2.06-.94 2.06-2.06.94z\"/><path d=\"M17.41 7.96l-1.37-1.37c-.4-.4-.92-.59-1.43-.59-.52 0-1.04.2-1.43.59L10.3 9.45l-7.72 7.72c-.78.78-.78 2.05 0 2.83L4 21.41c.39.39.9.59 1.41.59.51 0 1.02-.2 1.41-.59l7.78-7.78 2.81-2.81c.8-.78.8-2.07 0-2.86zM5.41 20L4 18.59l7.72-7.72 1.47 1.35L5.41 20z\"/>\n",
              "  </svg>\n",
              "      </button>\n",
              "\n",
              "\n",
              "\n",
              "    <div id=\"df-c8c4a8cc-63ad-4e8b-a888-bfa34452e950\">\n",
              "      <button class=\"colab-df-quickchart\" onclick=\"quickchart('df-c8c4a8cc-63ad-4e8b-a888-bfa34452e950')\"\n",
              "              title=\"Suggest charts.\"\n",
              "              style=\"display:none;\">\n",
              "\n",
              "<svg xmlns=\"http://www.w3.org/2000/svg\" height=\"24px\"viewBox=\"0 0 24 24\"\n",
              "     width=\"24px\">\n",
              "    <g>\n",
              "        <path d=\"M19 3H5c-1.1 0-2 .9-2 2v14c0 1.1.9 2 2 2h14c1.1 0 2-.9 2-2V5c0-1.1-.9-2-2-2zM9 17H7v-7h2v7zm4 0h-2V7h2v10zm4 0h-2v-4h2v4z\"/>\n",
              "    </g>\n",
              "</svg>\n",
              "      </button>\n",
              "    </div>\n",
              "\n",
              "<style>\n",
              "  .colab-df-quickchart {\n",
              "    background-color: #E8F0FE;\n",
              "    border: none;\n",
              "    border-radius: 50%;\n",
              "    cursor: pointer;\n",
              "    display: none;\n",
              "    fill: #1967D2;\n",
              "    height: 32px;\n",
              "    padding: 0 0 0 0;\n",
              "    width: 32px;\n",
              "  }\n",
              "\n",
              "  .colab-df-quickchart:hover {\n",
              "    background-color: #E2EBFA;\n",
              "    box-shadow: 0px 1px 2px rgba(60, 64, 67, 0.3), 0px 1px 3px 1px rgba(60, 64, 67, 0.15);\n",
              "    fill: #174EA6;\n",
              "  }\n",
              "\n",
              "  [theme=dark] .colab-df-quickchart {\n",
              "    background-color: #3B4455;\n",
              "    fill: #D2E3FC;\n",
              "  }\n",
              "\n",
              "  [theme=dark] .colab-df-quickchart:hover {\n",
              "    background-color: #434B5C;\n",
              "    box-shadow: 0px 1px 3px 1px rgba(0, 0, 0, 0.15);\n",
              "    filter: drop-shadow(0px 1px 2px rgba(0, 0, 0, 0.3));\n",
              "    fill: #FFFFFF;\n",
              "  }\n",
              "</style>\n",
              "\n",
              "    <script>\n",
              "      async function quickchart(key) {\n",
              "        const containerElement = document.querySelector('#' + key);\n",
              "        const charts = await google.colab.kernel.invokeFunction(\n",
              "            'suggestCharts', [key], {});\n",
              "      }\n",
              "    </script>\n",
              "\n",
              "      <script>\n",
              "\n",
              "function displayQuickchartButton(domScope) {\n",
              "  let quickchartButtonEl =\n",
              "    domScope.querySelector('#df-c8c4a8cc-63ad-4e8b-a888-bfa34452e950 button.colab-df-quickchart');\n",
              "  quickchartButtonEl.style.display =\n",
              "    google.colab.kernel.accessAllowed ? 'block' : 'none';\n",
              "}\n",
              "\n",
              "        displayQuickchartButton(document);\n",
              "      </script>\n",
              "      <style>\n",
              "    .colab-df-container {\n",
              "      display:flex;\n",
              "      flex-wrap:wrap;\n",
              "      gap: 12px;\n",
              "    }\n",
              "\n",
              "    .colab-df-convert {\n",
              "      background-color: #E8F0FE;\n",
              "      border: none;\n",
              "      border-radius: 50%;\n",
              "      cursor: pointer;\n",
              "      display: none;\n",
              "      fill: #1967D2;\n",
              "      height: 32px;\n",
              "      padding: 0 0 0 0;\n",
              "      width: 32px;\n",
              "    }\n",
              "\n",
              "    .colab-df-convert:hover {\n",
              "      background-color: #E2EBFA;\n",
              "      box-shadow: 0px 1px 2px rgba(60, 64, 67, 0.3), 0px 1px 3px 1px rgba(60, 64, 67, 0.15);\n",
              "      fill: #174EA6;\n",
              "    }\n",
              "\n",
              "    [theme=dark] .colab-df-convert {\n",
              "      background-color: #3B4455;\n",
              "      fill: #D2E3FC;\n",
              "    }\n",
              "\n",
              "    [theme=dark] .colab-df-convert:hover {\n",
              "      background-color: #434B5C;\n",
              "      box-shadow: 0px 1px 3px 1px rgba(0, 0, 0, 0.15);\n",
              "      filter: drop-shadow(0px 1px 2px rgba(0, 0, 0, 0.3));\n",
              "      fill: #FFFFFF;\n",
              "    }\n",
              "  </style>\n",
              "\n",
              "      <script>\n",
              "        const buttonEl =\n",
              "          document.querySelector('#df-94c5bf1f-5df7-45d3-bd8e-a4f404dffb88 button.colab-df-convert');\n",
              "        buttonEl.style.display =\n",
              "          google.colab.kernel.accessAllowed ? 'block' : 'none';\n",
              "\n",
              "        async function convertToInteractive(key) {\n",
              "          const element = document.querySelector('#df-94c5bf1f-5df7-45d3-bd8e-a4f404dffb88');\n",
              "          const dataTable =\n",
              "            await google.colab.kernel.invokeFunction('convertToInteractive',\n",
              "                                                     [key], {});\n",
              "          if (!dataTable) return;\n",
              "\n",
              "          const docLinkHtml = 'Like what you see? Visit the ' +\n",
              "            '<a target=\"_blank\" href=https://colab.research.google.com/notebooks/data_table.ipynb>data table notebook</a>'\n",
              "            + ' to learn more about interactive tables.';\n",
              "          element.innerHTML = '';\n",
              "          dataTable['output_type'] = 'display_data';\n",
              "          await google.colab.output.renderOutput(dataTable, element);\n",
              "          const docLink = document.createElement('div');\n",
              "          docLink.innerHTML = docLinkHtml;\n",
              "          element.appendChild(docLink);\n",
              "        }\n",
              "      </script>\n",
              "    </div>\n",
              "  </div>\n"
            ]
          },
          "metadata": {},
          "execution_count": 25
        }
      ]
    },
    {
      "cell_type": "markdown",
      "source": [
        "**Step 3**"
      ],
      "metadata": {
        "id": "gM4q6qzH099r"
      }
    },
    {
      "cell_type": "code",
      "source": [
        "iris_col_names = ['sepal_length', 'sepal_width', 'petal_length',  'petal_width','class'] #creating a list for column names\n",
        "updated_iris = pd.read_csv(url, names = iris_col_names, header = None) # assigning the names with the specific column names and also using header=None to align them in order\n",
        "updated_iris.head()\n",
        "#print(updated_iris.columns.values.tolist())\n",
        "updated_iris.columns.values.tolist() # to show the column names of the dataset."
      ],
      "metadata": {
        "colab": {
          "base_uri": "https://localhost:8080/"
        },
        "id": "nkggSw1Qm-cg",
        "outputId": "cbf7a710-eeae-4ffb-8f33-1b22774b8326"
      },
      "execution_count": 26,
      "outputs": [
        {
          "output_type": "execute_result",
          "data": {
            "text/plain": [
              "['sepal_length', 'sepal_width', 'petal_length', 'petal_width', 'class']"
            ]
          },
          "metadata": {},
          "execution_count": 26
        }
      ]
    },
    {
      "cell_type": "markdown",
      "source": [
        "**Step 4**"
      ],
      "metadata": {
        "id": "QKb4FziY1ajJ"
      }
    },
    {
      "cell_type": "code",
      "source": [
        "new_updated_iris = updated_iris.isnull() # in-built operator to check for any missing values within the dataset.\n",
        "#new_updated_iris = updated_iris.isnull().values.any() # gives a boolean response whether there is missing values or not.\n",
        "print(new_updated_iris)"
      ],
      "metadata": {
        "colab": {
          "base_uri": "https://localhost:8080/"
        },
        "id": "06rLWl5y1dAX",
        "outputId": "0f63583b-a344-4552-8908-9c93cfd36be4"
      },
      "execution_count": 27,
      "outputs": [
        {
          "output_type": "stream",
          "name": "stdout",
          "text": [
            "     sepal_length  sepal_width  petal_length  petal_width  class\n",
            "0           False        False         False        False  False\n",
            "1           False        False         False        False  False\n",
            "2           False        False         False        False  False\n",
            "3           False        False         False        False  False\n",
            "4           False        False         False        False  False\n",
            "..            ...          ...           ...          ...    ...\n",
            "145         False        False         False        False  False\n",
            "146         False        False         False        False  False\n",
            "147         False        False         False        False  False\n",
            "148         False        False         False        False  False\n",
            "149         False        False         False        False  False\n",
            "\n",
            "[150 rows x 5 columns]\n"
          ]
        }
      ]
    },
    {
      "cell_type": "markdown",
      "source": [
        "**Step 5**"
      ],
      "metadata": {
        "id": "pFVyCynr2w-p"
      }
    },
    {
      "cell_type": "code",
      "source": [
        "updated_iris.loc[10:29,'petal_length'] = float('NaN') #Assigning NaN values to specific rows on the petal_length column\n",
        "#print(updated_iris[10:30]['petal_length'])\n",
        "#print(updated_iris[9:31])\n",
        "print(updated_iris[10:30])\n",
        "\n",
        "'''\n",
        "new_iris = updated_iris['petal_length']\n",
        "print(new_iris)\n",
        "df.update(df.iloc[[0]].fillna(''))\n",
        "nullified_iris_rows = new_iris.iloc[10:30].replace(np.nan, '', regex=True)\n",
        "print(new_iris.update(new_iris.iloc[10:29].fillna('NaN')))\n",
        "nullified_iris_rows = updated_iris.update(updated_iris.iloc[10:29],petal_length.fillna(''))\n",
        "new_iris = updated_iris['petal_length']\n",
        "nullified_iris_rows = new_iris.update(new_iris.iloc[[10,29]].fillna(''))\n",
        "print(new_iris)\n",
        "print(nullified_iris_rows)\n",
        "\n",
        "'''\n",
        "\n"
      ],
      "metadata": {
        "colab": {
          "base_uri": "https://localhost:8080/",
          "height": 412
        },
        "id": "j0es9MB62zTA",
        "outputId": "c68818a8-038e-44a9-a3ca-7be725c4b67b"
      },
      "execution_count": 28,
      "outputs": [
        {
          "output_type": "stream",
          "name": "stdout",
          "text": [
            "    sepal_length  sepal_width  petal_length  petal_width        class\n",
            "10           5.4          3.7           NaN          0.2  Iris-setosa\n",
            "11           4.8          3.4           NaN          0.2  Iris-setosa\n",
            "12           4.8          3.0           NaN          0.1  Iris-setosa\n",
            "13           4.3          3.0           NaN          0.1  Iris-setosa\n",
            "14           5.8          4.0           NaN          0.2  Iris-setosa\n",
            "15           5.7          4.4           NaN          0.4  Iris-setosa\n",
            "16           5.4          3.9           NaN          0.4  Iris-setosa\n",
            "17           5.1          3.5           NaN          0.3  Iris-setosa\n",
            "18           5.7          3.8           NaN          0.3  Iris-setosa\n",
            "19           5.1          3.8           NaN          0.3  Iris-setosa\n",
            "20           5.4          3.4           NaN          0.2  Iris-setosa\n",
            "21           5.1          3.7           NaN          0.4  Iris-setosa\n",
            "22           4.6          3.6           NaN          0.2  Iris-setosa\n",
            "23           5.1          3.3           NaN          0.5  Iris-setosa\n",
            "24           4.8          3.4           NaN          0.2  Iris-setosa\n",
            "25           5.0          3.0           NaN          0.2  Iris-setosa\n",
            "26           5.0          3.4           NaN          0.4  Iris-setosa\n",
            "27           5.2          3.5           NaN          0.2  Iris-setosa\n",
            "28           5.2          3.4           NaN          0.2  Iris-setosa\n",
            "29           4.7          3.2           NaN          0.2  Iris-setosa\n"
          ]
        },
        {
          "output_type": "execute_result",
          "data": {
            "text/plain": [
              "\"\\nnew_iris = updated_iris['petal_length']\\nprint(new_iris)\\ndf.update(df.iloc[[0]].fillna(''))\\nnullified_iris_rows = new_iris.iloc[10:30].replace(np.nan, '', regex=True)\\nprint(new_iris.update(new_iris.iloc[10:29].fillna('NaN')))\\nnullified_iris_rows = updated_iris.update(updated_iris.iloc[10:29],petal_length.fillna(''))\\nnew_iris = updated_iris['petal_length']\\nnullified_iris_rows = new_iris.update(new_iris.iloc[[10,29]].fillna(''))\\nprint(new_iris)\\nprint(nullified_iris_rows)\\n\\n\""
            ],
            "application/vnd.google.colaboratory.intrinsic+json": {
              "type": "string"
            }
          },
          "metadata": {},
          "execution_count": 28
        }
      ]
    },
    {
      "cell_type": "markdown",
      "source": [
        "\n",
        "\n",
        "**Step 6**\n"
      ],
      "metadata": {
        "id": "UlN_lQ3MzUBg"
      }
    },
    {
      "cell_type": "code",
      "source": [
        "newly_updated_iris = updated_iris.isnull().values.any() #checking again for null values present in the dataset.\n",
        "print(newly_updated_iris)\n",
        "newly_updated_iris = updated_iris['petal_length'].isnull().sum() #Counting the number of missing values.\n",
        "print(newly_updated_iris)"
      ],
      "metadata": {
        "colab": {
          "base_uri": "https://localhost:8080/"
        },
        "id": "waptRXZOzcdV",
        "outputId": "8774b575-67d1-44ff-a6f9-130f7250240a"
      },
      "execution_count": 29,
      "outputs": [
        {
          "output_type": "stream",
          "name": "stdout",
          "text": [
            "True\n",
            "20\n"
          ]
        }
      ]
    },
    {
      "cell_type": "markdown",
      "source": [
        "**Step 7**"
      ],
      "metadata": {
        "id": "bEaD-qr60fCo"
      }
    },
    {
      "cell_type": "code",
      "source": [
        "subs_updated_iris = updated_iris[10:30].fillna(10.0) #replacing the values of NaN with 10.0 by using the fillna function.\n",
        "#print(subs_updated_iris)\n",
        "print(subs_updated_iris['petal_length'])"
      ],
      "metadata": {
        "colab": {
          "base_uri": "https://localhost:8080/"
        },
        "id": "1cE88det0hfy",
        "outputId": "a3cd28b3-c328-4925-aeb2-d74be3a21f1a"
      },
      "execution_count": 30,
      "outputs": [
        {
          "output_type": "stream",
          "name": "stdout",
          "text": [
            "10    10.0\n",
            "11    10.0\n",
            "12    10.0\n",
            "13    10.0\n",
            "14    10.0\n",
            "15    10.0\n",
            "16    10.0\n",
            "17    10.0\n",
            "18    10.0\n",
            "19    10.0\n",
            "20    10.0\n",
            "21    10.0\n",
            "22    10.0\n",
            "23    10.0\n",
            "24    10.0\n",
            "25    10.0\n",
            "26    10.0\n",
            "27    10.0\n",
            "28    10.0\n",
            "29    10.0\n",
            "Name: petal_length, dtype: float64\n"
          ]
        }
      ]
    }
  ]
}