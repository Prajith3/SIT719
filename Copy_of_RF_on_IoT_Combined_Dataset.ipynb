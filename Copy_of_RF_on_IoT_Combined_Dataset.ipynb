{
  "nbformat": 4,
  "nbformat_minor": 0,
  "metadata": {
    "colab": {
      "provenance": [],
      "gpuType": "T4",
      "include_colab_link": true
    },
    "kernelspec": {
      "display_name": "Python 3",
      "name": "python3"
    },
    "language_info": {
      "codemirror_mode": {
        "name": "ipython",
        "version": 3
      },
      "file_extension": ".py",
      "mimetype": "text/x-python",
      "name": "python",
      "nbconvert_exporter": "python",
      "pygments_lexer": "ipython3",
      "version": "3.7.3"
    }
  },
  "cells": [
    {
      "cell_type": "markdown",
      "metadata": {
        "id": "view-in-github",
        "colab_type": "text"
      },
      "source": [
        "<a href=\"https://colab.research.google.com/github/Prajith3/SIT719/blob/main/Copy_of_RF_on_IoT_Combined_Dataset.ipynb\" target=\"_parent\"><img src=\"https://colab.research.google.com/assets/colab-badge.svg\" alt=\"Open In Colab\"/></a>"
      ]
    },
    {
      "cell_type": "markdown",
      "metadata": {
        "id": "y61xJzKhjsAt"
      },
      "source": [
        "# **Random Forest(RF) on IoT Combined Dataset**"
      ]
    },
    {
      "cell_type": "markdown",
      "metadata": {
        "id": "SSWJ-I3UKZ6h"
      },
      "source": [
        "****Importing libraries****"
      ]
    },
    {
      "cell_type": "code",
      "metadata": {
        "id": "AwMrsTn_KVhy"
      },
      "source": [
        "import timeit\n",
        "import pandas as pd\n",
        "import numpy as np\n",
        "import seaborn as sns\n",
        "import matplotlib.pyplot as plt\n",
        "from sklearn.model_selection import train_test_split\n",
        "from sklearn.ensemble import RandomForestClassifier\n",
        "from sklearn import metrics\n",
        "from sklearn.metrics import classification_report, confusion_matrix\n",
        "from sklearn.metrics import roc_curve\n",
        "from sklearn.metrics import roc_auc_score\n",
        "import warnings\n",
        "%matplotlib inline\n",
        "warnings.filterwarnings('ignore')\n",
        "#warnings.filterwarnings('always')"
      ],
      "execution_count": 21,
      "outputs": []
    },
    {
      "cell_type": "markdown",
      "metadata": {
        "id": "VVVIs7G_KdTq"
      },
      "source": [
        "**Upload File**"
      ]
    },
    {
      "cell_type": "code",
      "metadata": {
        "id": "24Ek4cCej76I"
      },
      "source": [
        "#uploaded = files.upload()"
      ],
      "execution_count": 22,
      "outputs": []
    },
    {
      "cell_type": "markdown",
      "metadata": {
        "id": "4jmo-htGGdCD"
      },
      "source": [
        "**Importing the Dataset**"
      ]
    },
    {
      "cell_type": "code",
      "metadata": {
        "id": "AsvTp_w-l-Km"
      },
      "source": [
        "dataset = pd.read_csv('Processed_Combined_IoT_dataset.csv')"
      ],
      "execution_count": 23,
      "outputs": []
    },
    {
      "cell_type": "markdown",
      "metadata": {
        "id": "2BWWYGPNGhst"
      },
      "source": [
        "**Exploratory Data Analysis**"
      ]
    },
    {
      "cell_type": "code",
      "metadata": {
        "colab": {
          "base_uri": "https://localhost:8080/",
          "height": 221
        },
        "id": "0hEM0bOClrjL",
        "outputId": "3c35bbf6-f8e4-4364-a25b-467d377e38d4"
      },
      "source": [
        "dataset.head()"
      ],
      "execution_count": 24,
      "outputs": [
        {
          "output_type": "execute_result",
          "data": {
            "text/plain": [
              "   FC1_Read_Input_Register  FC2_Read_Discrete_Value  \\\n",
              "0                 0.495216                 0.499092   \n",
              "1                 0.495216                 0.499092   \n",
              "2                 0.495216                 0.499092   \n",
              "3                 0.495216                 0.499092   \n",
              "4                 0.495216                 0.499092   \n",
              "\n",
              "   FC3_Read_Holding_Register  FC4_Read_Coil  current_temperature  door_state  \\\n",
              "0                   0.488897       0.499405             0.344399           0   \n",
              "1                   0.488897       0.499405             0.344399           0   \n",
              "2                   0.488897       0.499405             0.344399           0   \n",
              "3                   0.488897       0.499405             0.344399           0   \n",
              "4                   0.488897       0.499405             0.344399           0   \n",
              "\n",
              "   fridge_temperature  humidity  latitude  light_status  longitude  \\\n",
              "0            0.930769  0.462511  0.008217             0   0.008112   \n",
              "1            0.588462  0.462511  0.008217             0   0.008112   \n",
              "2            0.076923  0.462511  0.008217             0   0.008112   \n",
              "3            0.292308  0.462511  0.008217             0   0.008112   \n",
              "4            0.746154  0.462511  0.008217             0   0.008112   \n",
              "\n",
              "   motion_status  pressure  sphone_signal  temp_condition  temperature  \\\n",
              "0              0  0.533556       0.666667             0.2     0.517307   \n",
              "1              0  0.533556       0.666667             0.2     0.517307   \n",
              "2              0  0.533556       0.666667             0.8     0.517307   \n",
              "3              0  0.533556       0.666667             0.8     0.517307   \n",
              "4              0  0.533556       0.666667             0.2     0.517307   \n",
              "\n",
              "   thermostat_status  label  \n",
              "0                  1      0  \n",
              "1                  1      0  \n",
              "2                  1      0  \n",
              "3                  1      0  \n",
              "4                  1      0  "
            ],
            "text/html": [
              "\n",
              "  <div id=\"df-3f5ba975-7825-4ed8-8e95-9f788b0d0811\" class=\"colab-df-container\">\n",
              "    <div>\n",
              "<style scoped>\n",
              "    .dataframe tbody tr th:only-of-type {\n",
              "        vertical-align: middle;\n",
              "    }\n",
              "\n",
              "    .dataframe tbody tr th {\n",
              "        vertical-align: top;\n",
              "    }\n",
              "\n",
              "    .dataframe thead th {\n",
              "        text-align: right;\n",
              "    }\n",
              "</style>\n",
              "<table border=\"1\" class=\"dataframe\">\n",
              "  <thead>\n",
              "    <tr style=\"text-align: right;\">\n",
              "      <th></th>\n",
              "      <th>FC1_Read_Input_Register</th>\n",
              "      <th>FC2_Read_Discrete_Value</th>\n",
              "      <th>FC3_Read_Holding_Register</th>\n",
              "      <th>FC4_Read_Coil</th>\n",
              "      <th>current_temperature</th>\n",
              "      <th>door_state</th>\n",
              "      <th>fridge_temperature</th>\n",
              "      <th>humidity</th>\n",
              "      <th>latitude</th>\n",
              "      <th>light_status</th>\n",
              "      <th>longitude</th>\n",
              "      <th>motion_status</th>\n",
              "      <th>pressure</th>\n",
              "      <th>sphone_signal</th>\n",
              "      <th>temp_condition</th>\n",
              "      <th>temperature</th>\n",
              "      <th>thermostat_status</th>\n",
              "      <th>label</th>\n",
              "    </tr>\n",
              "  </thead>\n",
              "  <tbody>\n",
              "    <tr>\n",
              "      <th>0</th>\n",
              "      <td>0.495216</td>\n",
              "      <td>0.499092</td>\n",
              "      <td>0.488897</td>\n",
              "      <td>0.499405</td>\n",
              "      <td>0.344399</td>\n",
              "      <td>0</td>\n",
              "      <td>0.930769</td>\n",
              "      <td>0.462511</td>\n",
              "      <td>0.008217</td>\n",
              "      <td>0</td>\n",
              "      <td>0.008112</td>\n",
              "      <td>0</td>\n",
              "      <td>0.533556</td>\n",
              "      <td>0.666667</td>\n",
              "      <td>0.2</td>\n",
              "      <td>0.517307</td>\n",
              "      <td>1</td>\n",
              "      <td>0</td>\n",
              "    </tr>\n",
              "    <tr>\n",
              "      <th>1</th>\n",
              "      <td>0.495216</td>\n",
              "      <td>0.499092</td>\n",
              "      <td>0.488897</td>\n",
              "      <td>0.499405</td>\n",
              "      <td>0.344399</td>\n",
              "      <td>0</td>\n",
              "      <td>0.588462</td>\n",
              "      <td>0.462511</td>\n",
              "      <td>0.008217</td>\n",
              "      <td>0</td>\n",
              "      <td>0.008112</td>\n",
              "      <td>0</td>\n",
              "      <td>0.533556</td>\n",
              "      <td>0.666667</td>\n",
              "      <td>0.2</td>\n",
              "      <td>0.517307</td>\n",
              "      <td>1</td>\n",
              "      <td>0</td>\n",
              "    </tr>\n",
              "    <tr>\n",
              "      <th>2</th>\n",
              "      <td>0.495216</td>\n",
              "      <td>0.499092</td>\n",
              "      <td>0.488897</td>\n",
              "      <td>0.499405</td>\n",
              "      <td>0.344399</td>\n",
              "      <td>0</td>\n",
              "      <td>0.076923</td>\n",
              "      <td>0.462511</td>\n",
              "      <td>0.008217</td>\n",
              "      <td>0</td>\n",
              "      <td>0.008112</td>\n",
              "      <td>0</td>\n",
              "      <td>0.533556</td>\n",
              "      <td>0.666667</td>\n",
              "      <td>0.8</td>\n",
              "      <td>0.517307</td>\n",
              "      <td>1</td>\n",
              "      <td>0</td>\n",
              "    </tr>\n",
              "    <tr>\n",
              "      <th>3</th>\n",
              "      <td>0.495216</td>\n",
              "      <td>0.499092</td>\n",
              "      <td>0.488897</td>\n",
              "      <td>0.499405</td>\n",
              "      <td>0.344399</td>\n",
              "      <td>0</td>\n",
              "      <td>0.292308</td>\n",
              "      <td>0.462511</td>\n",
              "      <td>0.008217</td>\n",
              "      <td>0</td>\n",
              "      <td>0.008112</td>\n",
              "      <td>0</td>\n",
              "      <td>0.533556</td>\n",
              "      <td>0.666667</td>\n",
              "      <td>0.8</td>\n",
              "      <td>0.517307</td>\n",
              "      <td>1</td>\n",
              "      <td>0</td>\n",
              "    </tr>\n",
              "    <tr>\n",
              "      <th>4</th>\n",
              "      <td>0.495216</td>\n",
              "      <td>0.499092</td>\n",
              "      <td>0.488897</td>\n",
              "      <td>0.499405</td>\n",
              "      <td>0.344399</td>\n",
              "      <td>0</td>\n",
              "      <td>0.746154</td>\n",
              "      <td>0.462511</td>\n",
              "      <td>0.008217</td>\n",
              "      <td>0</td>\n",
              "      <td>0.008112</td>\n",
              "      <td>0</td>\n",
              "      <td>0.533556</td>\n",
              "      <td>0.666667</td>\n",
              "      <td>0.2</td>\n",
              "      <td>0.517307</td>\n",
              "      <td>1</td>\n",
              "      <td>0</td>\n",
              "    </tr>\n",
              "  </tbody>\n",
              "</table>\n",
              "</div>\n",
              "    <div class=\"colab-df-buttons\">\n",
              "\n",
              "  <div class=\"colab-df-container\">\n",
              "    <button class=\"colab-df-convert\" onclick=\"convertToInteractive('df-3f5ba975-7825-4ed8-8e95-9f788b0d0811')\"\n",
              "            title=\"Convert this dataframe to an interactive table.\"\n",
              "            style=\"display:none;\">\n",
              "\n",
              "  <svg xmlns=\"http://www.w3.org/2000/svg\" height=\"24px\" viewBox=\"0 -960 960 960\">\n",
              "    <path d=\"M120-120v-720h720v720H120Zm60-500h600v-160H180v160Zm220 220h160v-160H400v160Zm0 220h160v-160H400v160ZM180-400h160v-160H180v160Zm440 0h160v-160H620v160ZM180-180h160v-160H180v160Zm440 0h160v-160H620v160Z\"/>\n",
              "  </svg>\n",
              "    </button>\n",
              "\n",
              "  <style>\n",
              "    .colab-df-container {\n",
              "      display:flex;\n",
              "      gap: 12px;\n",
              "    }\n",
              "\n",
              "    .colab-df-convert {\n",
              "      background-color: #E8F0FE;\n",
              "      border: none;\n",
              "      border-radius: 50%;\n",
              "      cursor: pointer;\n",
              "      display: none;\n",
              "      fill: #1967D2;\n",
              "      height: 32px;\n",
              "      padding: 0 0 0 0;\n",
              "      width: 32px;\n",
              "    }\n",
              "\n",
              "    .colab-df-convert:hover {\n",
              "      background-color: #E2EBFA;\n",
              "      box-shadow: 0px 1px 2px rgba(60, 64, 67, 0.3), 0px 1px 3px 1px rgba(60, 64, 67, 0.15);\n",
              "      fill: #174EA6;\n",
              "    }\n",
              "\n",
              "    .colab-df-buttons div {\n",
              "      margin-bottom: 4px;\n",
              "    }\n",
              "\n",
              "    [theme=dark] .colab-df-convert {\n",
              "      background-color: #3B4455;\n",
              "      fill: #D2E3FC;\n",
              "    }\n",
              "\n",
              "    [theme=dark] .colab-df-convert:hover {\n",
              "      background-color: #434B5C;\n",
              "      box-shadow: 0px 1px 3px 1px rgba(0, 0, 0, 0.15);\n",
              "      filter: drop-shadow(0px 1px 2px rgba(0, 0, 0, 0.3));\n",
              "      fill: #FFFFFF;\n",
              "    }\n",
              "  </style>\n",
              "\n",
              "    <script>\n",
              "      const buttonEl =\n",
              "        document.querySelector('#df-3f5ba975-7825-4ed8-8e95-9f788b0d0811 button.colab-df-convert');\n",
              "      buttonEl.style.display =\n",
              "        google.colab.kernel.accessAllowed ? 'block' : 'none';\n",
              "\n",
              "      async function convertToInteractive(key) {\n",
              "        const element = document.querySelector('#df-3f5ba975-7825-4ed8-8e95-9f788b0d0811');\n",
              "        const dataTable =\n",
              "          await google.colab.kernel.invokeFunction('convertToInteractive',\n",
              "                                                    [key], {});\n",
              "        if (!dataTable) return;\n",
              "\n",
              "        const docLinkHtml = 'Like what you see? Visit the ' +\n",
              "          '<a target=\"_blank\" href=https://colab.research.google.com/notebooks/data_table.ipynb>data table notebook</a>'\n",
              "          + ' to learn more about interactive tables.';\n",
              "        element.innerHTML = '';\n",
              "        dataTable['output_type'] = 'display_data';\n",
              "        await google.colab.output.renderOutput(dataTable, element);\n",
              "        const docLink = document.createElement('div');\n",
              "        docLink.innerHTML = docLinkHtml;\n",
              "        element.appendChild(docLink);\n",
              "      }\n",
              "    </script>\n",
              "  </div>\n",
              "\n",
              "\n",
              "<div id=\"df-e920f768-1004-4855-abd1-de641a58709c\">\n",
              "  <button class=\"colab-df-quickchart\" onclick=\"quickchart('df-e920f768-1004-4855-abd1-de641a58709c')\"\n",
              "            title=\"Suggest charts.\"\n",
              "            style=\"display:none;\">\n",
              "\n",
              "<svg xmlns=\"http://www.w3.org/2000/svg\" height=\"24px\"viewBox=\"0 0 24 24\"\n",
              "     width=\"24px\">\n",
              "    <g>\n",
              "        <path d=\"M19 3H5c-1.1 0-2 .9-2 2v14c0 1.1.9 2 2 2h14c1.1 0 2-.9 2-2V5c0-1.1-.9-2-2-2zM9 17H7v-7h2v7zm4 0h-2V7h2v10zm4 0h-2v-4h2v4z\"/>\n",
              "    </g>\n",
              "</svg>\n",
              "  </button>\n",
              "\n",
              "<style>\n",
              "  .colab-df-quickchart {\n",
              "      --bg-color: #E8F0FE;\n",
              "      --fill-color: #1967D2;\n",
              "      --hover-bg-color: #E2EBFA;\n",
              "      --hover-fill-color: #174EA6;\n",
              "      --disabled-fill-color: #AAA;\n",
              "      --disabled-bg-color: #DDD;\n",
              "  }\n",
              "\n",
              "  [theme=dark] .colab-df-quickchart {\n",
              "      --bg-color: #3B4455;\n",
              "      --fill-color: #D2E3FC;\n",
              "      --hover-bg-color: #434B5C;\n",
              "      --hover-fill-color: #FFFFFF;\n",
              "      --disabled-bg-color: #3B4455;\n",
              "      --disabled-fill-color: #666;\n",
              "  }\n",
              "\n",
              "  .colab-df-quickchart {\n",
              "    background-color: var(--bg-color);\n",
              "    border: none;\n",
              "    border-radius: 50%;\n",
              "    cursor: pointer;\n",
              "    display: none;\n",
              "    fill: var(--fill-color);\n",
              "    height: 32px;\n",
              "    padding: 0;\n",
              "    width: 32px;\n",
              "  }\n",
              "\n",
              "  .colab-df-quickchart:hover {\n",
              "    background-color: var(--hover-bg-color);\n",
              "    box-shadow: 0 1px 2px rgba(60, 64, 67, 0.3), 0 1px 3px 1px rgba(60, 64, 67, 0.15);\n",
              "    fill: var(--button-hover-fill-color);\n",
              "  }\n",
              "\n",
              "  .colab-df-quickchart-complete:disabled,\n",
              "  .colab-df-quickchart-complete:disabled:hover {\n",
              "    background-color: var(--disabled-bg-color);\n",
              "    fill: var(--disabled-fill-color);\n",
              "    box-shadow: none;\n",
              "  }\n",
              "\n",
              "  .colab-df-spinner {\n",
              "    border: 2px solid var(--fill-color);\n",
              "    border-color: transparent;\n",
              "    border-bottom-color: var(--fill-color);\n",
              "    animation:\n",
              "      spin 1s steps(1) infinite;\n",
              "  }\n",
              "\n",
              "  @keyframes spin {\n",
              "    0% {\n",
              "      border-color: transparent;\n",
              "      border-bottom-color: var(--fill-color);\n",
              "      border-left-color: var(--fill-color);\n",
              "    }\n",
              "    20% {\n",
              "      border-color: transparent;\n",
              "      border-left-color: var(--fill-color);\n",
              "      border-top-color: var(--fill-color);\n",
              "    }\n",
              "    30% {\n",
              "      border-color: transparent;\n",
              "      border-left-color: var(--fill-color);\n",
              "      border-top-color: var(--fill-color);\n",
              "      border-right-color: var(--fill-color);\n",
              "    }\n",
              "    40% {\n",
              "      border-color: transparent;\n",
              "      border-right-color: var(--fill-color);\n",
              "      border-top-color: var(--fill-color);\n",
              "    }\n",
              "    60% {\n",
              "      border-color: transparent;\n",
              "      border-right-color: var(--fill-color);\n",
              "    }\n",
              "    80% {\n",
              "      border-color: transparent;\n",
              "      border-right-color: var(--fill-color);\n",
              "      border-bottom-color: var(--fill-color);\n",
              "    }\n",
              "    90% {\n",
              "      border-color: transparent;\n",
              "      border-bottom-color: var(--fill-color);\n",
              "    }\n",
              "  }\n",
              "</style>\n",
              "\n",
              "  <script>\n",
              "    async function quickchart(key) {\n",
              "      const quickchartButtonEl =\n",
              "        document.querySelector('#' + key + ' button');\n",
              "      quickchartButtonEl.disabled = true;  // To prevent multiple clicks.\n",
              "      quickchartButtonEl.classList.add('colab-df-spinner');\n",
              "      try {\n",
              "        const charts = await google.colab.kernel.invokeFunction(\n",
              "            'suggestCharts', [key], {});\n",
              "      } catch (error) {\n",
              "        console.error('Error during call to suggestCharts:', error);\n",
              "      }\n",
              "      quickchartButtonEl.classList.remove('colab-df-spinner');\n",
              "      quickchartButtonEl.classList.add('colab-df-quickchart-complete');\n",
              "    }\n",
              "    (() => {\n",
              "      let quickchartButtonEl =\n",
              "        document.querySelector('#df-e920f768-1004-4855-abd1-de641a58709c button');\n",
              "      quickchartButtonEl.style.display =\n",
              "        google.colab.kernel.accessAllowed ? 'block' : 'none';\n",
              "    })();\n",
              "  </script>\n",
              "</div>\n",
              "    </div>\n",
              "  </div>\n"
            ]
          },
          "metadata": {},
          "execution_count": 24
        }
      ]
    },
    {
      "cell_type": "code",
      "metadata": {
        "colab": {
          "base_uri": "https://localhost:8080/"
        },
        "id": "Bq4nVy0ILHdo",
        "outputId": "fb1202d7-4b34-43e6-f2f1-c4b251ede4a4"
      },
      "source": [
        "print(dataset.shape)"
      ],
      "execution_count": 25,
      "outputs": [
        {
          "output_type": "stream",
          "name": "stdout",
          "text": [
            "(401119, 18)\n"
          ]
        }
      ]
    },
    {
      "cell_type": "code",
      "metadata": {
        "colab": {
          "base_uri": "https://localhost:8080/"
        },
        "id": "gJVXzqugDdWd",
        "outputId": "2ebd56a0-c318-4d3d-ecc9-4048074e81ba"
      },
      "source": [
        "print(list(dataset.columns))"
      ],
      "execution_count": 26,
      "outputs": [
        {
          "output_type": "stream",
          "name": "stdout",
          "text": [
            "['FC1_Read_Input_Register', 'FC2_Read_Discrete_Value', 'FC3_Read_Holding_Register', 'FC4_Read_Coil', 'current_temperature', 'door_state', 'fridge_temperature', 'humidity', 'latitude', 'light_status', 'longitude', 'motion_status', 'pressure', 'sphone_signal', 'temp_condition', 'temperature', 'thermostat_status', 'label']\n"
          ]
        }
      ]
    },
    {
      "cell_type": "code",
      "metadata": {
        "id": "kRuslnJmZbNZ",
        "colab": {
          "base_uri": "https://localhost:8080/"
        },
        "outputId": "2dab2a30-2486-4f79-abb1-3a3f1ffd2298"
      },
      "source": [
        "target_cols=list(dataset.columns[-1:])\n",
        "target_cols"
      ],
      "execution_count": 27,
      "outputs": [
        {
          "output_type": "execute_result",
          "data": {
            "text/plain": [
              "['label']"
            ]
          },
          "metadata": {},
          "execution_count": 27
        }
      ]
    },
    {
      "cell_type": "code",
      "metadata": {
        "colab": {
          "base_uri": "https://localhost:8080/"
        },
        "id": "qDuBF5llF833",
        "outputId": "109d88a9-3762-4f92-96b3-7d760b4b4263"
      },
      "source": [
        "feature_cols= list(dataset.columns[:-1])\n",
        "feature_cols"
      ],
      "execution_count": 28,
      "outputs": [
        {
          "output_type": "execute_result",
          "data": {
            "text/plain": [
              "['FC1_Read_Input_Register',\n",
              " 'FC2_Read_Discrete_Value',\n",
              " 'FC3_Read_Holding_Register',\n",
              " 'FC4_Read_Coil',\n",
              " 'current_temperature',\n",
              " 'door_state',\n",
              " 'fridge_temperature',\n",
              " 'humidity',\n",
              " 'latitude',\n",
              " 'light_status',\n",
              " 'longitude',\n",
              " 'motion_status',\n",
              " 'pressure',\n",
              " 'sphone_signal',\n",
              " 'temp_condition',\n",
              " 'temperature',\n",
              " 'thermostat_status']"
            ]
          },
          "metadata": {},
          "execution_count": 28
        }
      ]
    },
    {
      "cell_type": "markdown",
      "metadata": {
        "id": "poF7HvW6DvVp"
      },
      "source": [
        "**Split Dataset**"
      ]
    },
    {
      "cell_type": "code",
      "metadata": {
        "id": "lHM3bLWKHel7"
      },
      "source": [
        "#split dataset in features and target variable\n",
        "X = dataset.drop('label', axis=1) # Features\n",
        "y = dataset['label'] # Target variable"
      ],
      "execution_count": 29,
      "outputs": []
    },
    {
      "cell_type": "code",
      "metadata": {
        "colab": {
          "base_uri": "https://localhost:8080/",
          "height": 221
        },
        "id": "55_7-v6UdUQX",
        "outputId": "7029b128-0f37-4ea3-a691-eb22a6926163"
      },
      "source": [
        "X.head()"
      ],
      "execution_count": 30,
      "outputs": [
        {
          "output_type": "execute_result",
          "data": {
            "text/plain": [
              "   FC1_Read_Input_Register  FC2_Read_Discrete_Value  \\\n",
              "0                 0.495216                 0.499092   \n",
              "1                 0.495216                 0.499092   \n",
              "2                 0.495216                 0.499092   \n",
              "3                 0.495216                 0.499092   \n",
              "4                 0.495216                 0.499092   \n",
              "\n",
              "   FC3_Read_Holding_Register  FC4_Read_Coil  current_temperature  door_state  \\\n",
              "0                   0.488897       0.499405             0.344399           0   \n",
              "1                   0.488897       0.499405             0.344399           0   \n",
              "2                   0.488897       0.499405             0.344399           0   \n",
              "3                   0.488897       0.499405             0.344399           0   \n",
              "4                   0.488897       0.499405             0.344399           0   \n",
              "\n",
              "   fridge_temperature  humidity  latitude  light_status  longitude  \\\n",
              "0            0.930769  0.462511  0.008217             0   0.008112   \n",
              "1            0.588462  0.462511  0.008217             0   0.008112   \n",
              "2            0.076923  0.462511  0.008217             0   0.008112   \n",
              "3            0.292308  0.462511  0.008217             0   0.008112   \n",
              "4            0.746154  0.462511  0.008217             0   0.008112   \n",
              "\n",
              "   motion_status  pressure  sphone_signal  temp_condition  temperature  \\\n",
              "0              0  0.533556       0.666667             0.2     0.517307   \n",
              "1              0  0.533556       0.666667             0.2     0.517307   \n",
              "2              0  0.533556       0.666667             0.8     0.517307   \n",
              "3              0  0.533556       0.666667             0.8     0.517307   \n",
              "4              0  0.533556       0.666667             0.2     0.517307   \n",
              "\n",
              "   thermostat_status  \n",
              "0                  1  \n",
              "1                  1  \n",
              "2                  1  \n",
              "3                  1  \n",
              "4                  1  "
            ],
            "text/html": [
              "\n",
              "  <div id=\"df-9c68f8e3-e559-41f7-abba-0b929c759b9a\" class=\"colab-df-container\">\n",
              "    <div>\n",
              "<style scoped>\n",
              "    .dataframe tbody tr th:only-of-type {\n",
              "        vertical-align: middle;\n",
              "    }\n",
              "\n",
              "    .dataframe tbody tr th {\n",
              "        vertical-align: top;\n",
              "    }\n",
              "\n",
              "    .dataframe thead th {\n",
              "        text-align: right;\n",
              "    }\n",
              "</style>\n",
              "<table border=\"1\" class=\"dataframe\">\n",
              "  <thead>\n",
              "    <tr style=\"text-align: right;\">\n",
              "      <th></th>\n",
              "      <th>FC1_Read_Input_Register</th>\n",
              "      <th>FC2_Read_Discrete_Value</th>\n",
              "      <th>FC3_Read_Holding_Register</th>\n",
              "      <th>FC4_Read_Coil</th>\n",
              "      <th>current_temperature</th>\n",
              "      <th>door_state</th>\n",
              "      <th>fridge_temperature</th>\n",
              "      <th>humidity</th>\n",
              "      <th>latitude</th>\n",
              "      <th>light_status</th>\n",
              "      <th>longitude</th>\n",
              "      <th>motion_status</th>\n",
              "      <th>pressure</th>\n",
              "      <th>sphone_signal</th>\n",
              "      <th>temp_condition</th>\n",
              "      <th>temperature</th>\n",
              "      <th>thermostat_status</th>\n",
              "    </tr>\n",
              "  </thead>\n",
              "  <tbody>\n",
              "    <tr>\n",
              "      <th>0</th>\n",
              "      <td>0.495216</td>\n",
              "      <td>0.499092</td>\n",
              "      <td>0.488897</td>\n",
              "      <td>0.499405</td>\n",
              "      <td>0.344399</td>\n",
              "      <td>0</td>\n",
              "      <td>0.930769</td>\n",
              "      <td>0.462511</td>\n",
              "      <td>0.008217</td>\n",
              "      <td>0</td>\n",
              "      <td>0.008112</td>\n",
              "      <td>0</td>\n",
              "      <td>0.533556</td>\n",
              "      <td>0.666667</td>\n",
              "      <td>0.2</td>\n",
              "      <td>0.517307</td>\n",
              "      <td>1</td>\n",
              "    </tr>\n",
              "    <tr>\n",
              "      <th>1</th>\n",
              "      <td>0.495216</td>\n",
              "      <td>0.499092</td>\n",
              "      <td>0.488897</td>\n",
              "      <td>0.499405</td>\n",
              "      <td>0.344399</td>\n",
              "      <td>0</td>\n",
              "      <td>0.588462</td>\n",
              "      <td>0.462511</td>\n",
              "      <td>0.008217</td>\n",
              "      <td>0</td>\n",
              "      <td>0.008112</td>\n",
              "      <td>0</td>\n",
              "      <td>0.533556</td>\n",
              "      <td>0.666667</td>\n",
              "      <td>0.2</td>\n",
              "      <td>0.517307</td>\n",
              "      <td>1</td>\n",
              "    </tr>\n",
              "    <tr>\n",
              "      <th>2</th>\n",
              "      <td>0.495216</td>\n",
              "      <td>0.499092</td>\n",
              "      <td>0.488897</td>\n",
              "      <td>0.499405</td>\n",
              "      <td>0.344399</td>\n",
              "      <td>0</td>\n",
              "      <td>0.076923</td>\n",
              "      <td>0.462511</td>\n",
              "      <td>0.008217</td>\n",
              "      <td>0</td>\n",
              "      <td>0.008112</td>\n",
              "      <td>0</td>\n",
              "      <td>0.533556</td>\n",
              "      <td>0.666667</td>\n",
              "      <td>0.8</td>\n",
              "      <td>0.517307</td>\n",
              "      <td>1</td>\n",
              "    </tr>\n",
              "    <tr>\n",
              "      <th>3</th>\n",
              "      <td>0.495216</td>\n",
              "      <td>0.499092</td>\n",
              "      <td>0.488897</td>\n",
              "      <td>0.499405</td>\n",
              "      <td>0.344399</td>\n",
              "      <td>0</td>\n",
              "      <td>0.292308</td>\n",
              "      <td>0.462511</td>\n",
              "      <td>0.008217</td>\n",
              "      <td>0</td>\n",
              "      <td>0.008112</td>\n",
              "      <td>0</td>\n",
              "      <td>0.533556</td>\n",
              "      <td>0.666667</td>\n",
              "      <td>0.8</td>\n",
              "      <td>0.517307</td>\n",
              "      <td>1</td>\n",
              "    </tr>\n",
              "    <tr>\n",
              "      <th>4</th>\n",
              "      <td>0.495216</td>\n",
              "      <td>0.499092</td>\n",
              "      <td>0.488897</td>\n",
              "      <td>0.499405</td>\n",
              "      <td>0.344399</td>\n",
              "      <td>0</td>\n",
              "      <td>0.746154</td>\n",
              "      <td>0.462511</td>\n",
              "      <td>0.008217</td>\n",
              "      <td>0</td>\n",
              "      <td>0.008112</td>\n",
              "      <td>0</td>\n",
              "      <td>0.533556</td>\n",
              "      <td>0.666667</td>\n",
              "      <td>0.2</td>\n",
              "      <td>0.517307</td>\n",
              "      <td>1</td>\n",
              "    </tr>\n",
              "  </tbody>\n",
              "</table>\n",
              "</div>\n",
              "    <div class=\"colab-df-buttons\">\n",
              "\n",
              "  <div class=\"colab-df-container\">\n",
              "    <button class=\"colab-df-convert\" onclick=\"convertToInteractive('df-9c68f8e3-e559-41f7-abba-0b929c759b9a')\"\n",
              "            title=\"Convert this dataframe to an interactive table.\"\n",
              "            style=\"display:none;\">\n",
              "\n",
              "  <svg xmlns=\"http://www.w3.org/2000/svg\" height=\"24px\" viewBox=\"0 -960 960 960\">\n",
              "    <path d=\"M120-120v-720h720v720H120Zm60-500h600v-160H180v160Zm220 220h160v-160H400v160Zm0 220h160v-160H400v160ZM180-400h160v-160H180v160Zm440 0h160v-160H620v160ZM180-180h160v-160H180v160Zm440 0h160v-160H620v160Z\"/>\n",
              "  </svg>\n",
              "    </button>\n",
              "\n",
              "  <style>\n",
              "    .colab-df-container {\n",
              "      display:flex;\n",
              "      gap: 12px;\n",
              "    }\n",
              "\n",
              "    .colab-df-convert {\n",
              "      background-color: #E8F0FE;\n",
              "      border: none;\n",
              "      border-radius: 50%;\n",
              "      cursor: pointer;\n",
              "      display: none;\n",
              "      fill: #1967D2;\n",
              "      height: 32px;\n",
              "      padding: 0 0 0 0;\n",
              "      width: 32px;\n",
              "    }\n",
              "\n",
              "    .colab-df-convert:hover {\n",
              "      background-color: #E2EBFA;\n",
              "      box-shadow: 0px 1px 2px rgba(60, 64, 67, 0.3), 0px 1px 3px 1px rgba(60, 64, 67, 0.15);\n",
              "      fill: #174EA6;\n",
              "    }\n",
              "\n",
              "    .colab-df-buttons div {\n",
              "      margin-bottom: 4px;\n",
              "    }\n",
              "\n",
              "    [theme=dark] .colab-df-convert {\n",
              "      background-color: #3B4455;\n",
              "      fill: #D2E3FC;\n",
              "    }\n",
              "\n",
              "    [theme=dark] .colab-df-convert:hover {\n",
              "      background-color: #434B5C;\n",
              "      box-shadow: 0px 1px 3px 1px rgba(0, 0, 0, 0.15);\n",
              "      filter: drop-shadow(0px 1px 2px rgba(0, 0, 0, 0.3));\n",
              "      fill: #FFFFFF;\n",
              "    }\n",
              "  </style>\n",
              "\n",
              "    <script>\n",
              "      const buttonEl =\n",
              "        document.querySelector('#df-9c68f8e3-e559-41f7-abba-0b929c759b9a button.colab-df-convert');\n",
              "      buttonEl.style.display =\n",
              "        google.colab.kernel.accessAllowed ? 'block' : 'none';\n",
              "\n",
              "      async function convertToInteractive(key) {\n",
              "        const element = document.querySelector('#df-9c68f8e3-e559-41f7-abba-0b929c759b9a');\n",
              "        const dataTable =\n",
              "          await google.colab.kernel.invokeFunction('convertToInteractive',\n",
              "                                                    [key], {});\n",
              "        if (!dataTable) return;\n",
              "\n",
              "        const docLinkHtml = 'Like what you see? Visit the ' +\n",
              "          '<a target=\"_blank\" href=https://colab.research.google.com/notebooks/data_table.ipynb>data table notebook</a>'\n",
              "          + ' to learn more about interactive tables.';\n",
              "        element.innerHTML = '';\n",
              "        dataTable['output_type'] = 'display_data';\n",
              "        await google.colab.output.renderOutput(dataTable, element);\n",
              "        const docLink = document.createElement('div');\n",
              "        docLink.innerHTML = docLinkHtml;\n",
              "        element.appendChild(docLink);\n",
              "      }\n",
              "    </script>\n",
              "  </div>\n",
              "\n",
              "\n",
              "<div id=\"df-64473bf7-8a38-4271-bba4-617c9f119514\">\n",
              "  <button class=\"colab-df-quickchart\" onclick=\"quickchart('df-64473bf7-8a38-4271-bba4-617c9f119514')\"\n",
              "            title=\"Suggest charts.\"\n",
              "            style=\"display:none;\">\n",
              "\n",
              "<svg xmlns=\"http://www.w3.org/2000/svg\" height=\"24px\"viewBox=\"0 0 24 24\"\n",
              "     width=\"24px\">\n",
              "    <g>\n",
              "        <path d=\"M19 3H5c-1.1 0-2 .9-2 2v14c0 1.1.9 2 2 2h14c1.1 0 2-.9 2-2V5c0-1.1-.9-2-2-2zM9 17H7v-7h2v7zm4 0h-2V7h2v10zm4 0h-2v-4h2v4z\"/>\n",
              "    </g>\n",
              "</svg>\n",
              "  </button>\n",
              "\n",
              "<style>\n",
              "  .colab-df-quickchart {\n",
              "      --bg-color: #E8F0FE;\n",
              "      --fill-color: #1967D2;\n",
              "      --hover-bg-color: #E2EBFA;\n",
              "      --hover-fill-color: #174EA6;\n",
              "      --disabled-fill-color: #AAA;\n",
              "      --disabled-bg-color: #DDD;\n",
              "  }\n",
              "\n",
              "  [theme=dark] .colab-df-quickchart {\n",
              "      --bg-color: #3B4455;\n",
              "      --fill-color: #D2E3FC;\n",
              "      --hover-bg-color: #434B5C;\n",
              "      --hover-fill-color: #FFFFFF;\n",
              "      --disabled-bg-color: #3B4455;\n",
              "      --disabled-fill-color: #666;\n",
              "  }\n",
              "\n",
              "  .colab-df-quickchart {\n",
              "    background-color: var(--bg-color);\n",
              "    border: none;\n",
              "    border-radius: 50%;\n",
              "    cursor: pointer;\n",
              "    display: none;\n",
              "    fill: var(--fill-color);\n",
              "    height: 32px;\n",
              "    padding: 0;\n",
              "    width: 32px;\n",
              "  }\n",
              "\n",
              "  .colab-df-quickchart:hover {\n",
              "    background-color: var(--hover-bg-color);\n",
              "    box-shadow: 0 1px 2px rgba(60, 64, 67, 0.3), 0 1px 3px 1px rgba(60, 64, 67, 0.15);\n",
              "    fill: var(--button-hover-fill-color);\n",
              "  }\n",
              "\n",
              "  .colab-df-quickchart-complete:disabled,\n",
              "  .colab-df-quickchart-complete:disabled:hover {\n",
              "    background-color: var(--disabled-bg-color);\n",
              "    fill: var(--disabled-fill-color);\n",
              "    box-shadow: none;\n",
              "  }\n",
              "\n",
              "  .colab-df-spinner {\n",
              "    border: 2px solid var(--fill-color);\n",
              "    border-color: transparent;\n",
              "    border-bottom-color: var(--fill-color);\n",
              "    animation:\n",
              "      spin 1s steps(1) infinite;\n",
              "  }\n",
              "\n",
              "  @keyframes spin {\n",
              "    0% {\n",
              "      border-color: transparent;\n",
              "      border-bottom-color: var(--fill-color);\n",
              "      border-left-color: var(--fill-color);\n",
              "    }\n",
              "    20% {\n",
              "      border-color: transparent;\n",
              "      border-left-color: var(--fill-color);\n",
              "      border-top-color: var(--fill-color);\n",
              "    }\n",
              "    30% {\n",
              "      border-color: transparent;\n",
              "      border-left-color: var(--fill-color);\n",
              "      border-top-color: var(--fill-color);\n",
              "      border-right-color: var(--fill-color);\n",
              "    }\n",
              "    40% {\n",
              "      border-color: transparent;\n",
              "      border-right-color: var(--fill-color);\n",
              "      border-top-color: var(--fill-color);\n",
              "    }\n",
              "    60% {\n",
              "      border-color: transparent;\n",
              "      border-right-color: var(--fill-color);\n",
              "    }\n",
              "    80% {\n",
              "      border-color: transparent;\n",
              "      border-right-color: var(--fill-color);\n",
              "      border-bottom-color: var(--fill-color);\n",
              "    }\n",
              "    90% {\n",
              "      border-color: transparent;\n",
              "      border-bottom-color: var(--fill-color);\n",
              "    }\n",
              "  }\n",
              "</style>\n",
              "\n",
              "  <script>\n",
              "    async function quickchart(key) {\n",
              "      const quickchartButtonEl =\n",
              "        document.querySelector('#' + key + ' button');\n",
              "      quickchartButtonEl.disabled = true;  // To prevent multiple clicks.\n",
              "      quickchartButtonEl.classList.add('colab-df-spinner');\n",
              "      try {\n",
              "        const charts = await google.colab.kernel.invokeFunction(\n",
              "            'suggestCharts', [key], {});\n",
              "      } catch (error) {\n",
              "        console.error('Error during call to suggestCharts:', error);\n",
              "      }\n",
              "      quickchartButtonEl.classList.remove('colab-df-spinner');\n",
              "      quickchartButtonEl.classList.add('colab-df-quickchart-complete');\n",
              "    }\n",
              "    (() => {\n",
              "      let quickchartButtonEl =\n",
              "        document.querySelector('#df-64473bf7-8a38-4271-bba4-617c9f119514 button');\n",
              "      quickchartButtonEl.style.display =\n",
              "        google.colab.kernel.accessAllowed ? 'block' : 'none';\n",
              "    })();\n",
              "  </script>\n",
              "</div>\n",
              "    </div>\n",
              "  </div>\n"
            ]
          },
          "metadata": {},
          "execution_count": 30
        }
      ]
    },
    {
      "cell_type": "code",
      "metadata": {
        "colab": {
          "base_uri": "https://localhost:8080/"
        },
        "id": "Qc42gmuXdYTE",
        "outputId": "551d514d-4617-460b-dcd2-e968a3ddd2e0"
      },
      "source": [
        "y.head()"
      ],
      "execution_count": 31,
      "outputs": [
        {
          "output_type": "execute_result",
          "data": {
            "text/plain": [
              "0    0\n",
              "1    0\n",
              "2    0\n",
              "3    0\n",
              "4    0\n",
              "Name: label, dtype: int64"
            ]
          },
          "metadata": {},
          "execution_count": 31
        }
      ]
    },
    {
      "cell_type": "markdown",
      "metadata": {
        "id": "1v471CZ0DpxX"
      },
      "source": [
        "**Splitting Data**"
      ]
    },
    {
      "cell_type": "code",
      "metadata": {
        "id": "Xt-6HOnsDngY"
      },
      "source": [
        "# Split dataset into training set and test set\n",
        "X_train, X_test, y_train, y_test = train_test_split(X, y, test_size=0.3, random_state=1) # 70% training and 30% test"
      ],
      "execution_count": 32,
      "outputs": []
    },
    {
      "cell_type": "code",
      "metadata": {
        "colab": {
          "base_uri": "https://localhost:8080/"
        },
        "id": "QpwOt4T3JJwY",
        "outputId": "cb8afc7f-293d-46be-fd88-2c9f1da32d89"
      },
      "source": [
        "# Check the shape of all of these\n",
        "print(\"X_train shape is : \", X_train.shape)\n",
        "print(\"X_test shape  is : \", X_test.shape)\n",
        "print(\"y_train shape is : \", y_train.shape)\n",
        "print(\"y_test shape is  : \", y_test.shape)"
      ],
      "execution_count": 33,
      "outputs": [
        {
          "output_type": "stream",
          "name": "stdout",
          "text": [
            "X_train shape is :  (280783, 17)\n",
            "X_test shape  is :  (120336, 17)\n",
            "y_train shape is :  (280783,)\n",
            "y_test shape is  :  (120336,)\n"
          ]
        }
      ]
    },
    {
      "cell_type": "markdown",
      "metadata": {
        "id": "uu8yDYOAEZlI"
      },
      "source": [
        "**Building Model**"
      ]
    },
    {
      "cell_type": "code",
      "metadata": {
        "id": "aI8YKd80EgRn"
      },
      "source": [
        "#Calculate start time\n",
        "start = timeit.default_timer()\n",
        "\n",
        "#Create a Gaussian Classifier\n",
        "clf=RandomForestClassifier(n_estimators=100)\n",
        "\n",
        "#Train the model using the training sets y_pred=clf.predict(X_test)\n",
        "clf.fit(X_train,y_train)\n",
        "\n",
        "#Calculate Stop time\n",
        "stop = timeit.default_timer()\n",
        "train_time= stop - start"
      ],
      "execution_count": 34,
      "outputs": []
    },
    {
      "cell_type": "code",
      "metadata": {
        "id": "zqTSnzBrE9sk"
      },
      "source": [
        "#Calculate start time\n",
        "start = timeit.default_timer()\n",
        "\n",
        "# Predict the model\n",
        "y_pred=clf.predict(X_test)\n",
        "\n",
        "#Calculate Stop time\n",
        "stop = timeit.default_timer()\n",
        "test_time= stop - start"
      ],
      "execution_count": 35,
      "outputs": []
    },
    {
      "cell_type": "markdown",
      "metadata": {
        "id": "cGaWzP_KEnwY"
      },
      "source": [
        "**Evaluating Model**"
      ]
    },
    {
      "cell_type": "code",
      "metadata": {
        "id": "Z9FDpD4r8u33",
        "colab": {
          "base_uri": "https://localhost:8080/"
        },
        "outputId": "d6b559a8-af72-401b-9b2c-85118b4bf311"
      },
      "source": [
        "print(confusion_matrix(y_test,y_pred))\n",
        "print(classification_report(y_test,y_pred))"
      ],
      "execution_count": 36,
      "outputs": [
        {
          "output_type": "stream",
          "name": "stdout",
          "text": [
            "[[69920  3575]\n",
            " [12092 34749]]\n",
            "              precision    recall  f1-score   support\n",
            "\n",
            "           0       0.85      0.95      0.90     73495\n",
            "           1       0.91      0.74      0.82     46841\n",
            "\n",
            "    accuracy                           0.87    120336\n",
            "   macro avg       0.88      0.85      0.86    120336\n",
            "weighted avg       0.87      0.87      0.87    120336\n",
            "\n"
          ]
        }
      ]
    },
    {
      "cell_type": "code",
      "metadata": {
        "colab": {
          "base_uri": "https://localhost:8080/"
        },
        "id": "0dfwhoczEpdZ",
        "outputId": "7596f6d7-0929-429d-d1ba-8d984e0c9deb"
      },
      "source": [
        "# Model Accuracy: how often is the classifier correct?\n",
        "print(\"Accuracy:\",metrics.accuracy_score(y_test, y_pred))\n",
        "\n",
        "# Model Precision: what percentage of positive tuples are labeled as such?\n",
        "print(\"Precision:\",metrics.precision_score(y_test, y_pred))\n",
        "\n",
        "# Model Recall: what percentage of positive tuples are labelled as such?\n",
        "print(\"Recall:\",metrics.recall_score(y_test, y_pred))\n",
        "\n",
        "#Calculate F1 Score\n",
        "print(\"F1 Score:\",metrics.f1_score(y_test, y_pred))\n",
        "\n",
        "#Calculate Mean Absolute Error\n",
        "print(\"Mean Absolute Error:\",metrics.mean_absolute_error(y_test, y_pred))\n",
        "\n",
        "# kappa\n",
        "print(\"Cohens kappa:\", metrics.cohen_kappa_score(y_test, y_pred))\n",
        "\n",
        "# ROC AUC\n",
        "print(\"ROC AUC:\", metrics.roc_auc_score(y_test, y_pred))\n",
        "\n",
        "#Train time\n",
        "print('Train Time(s): ',train_time)\n",
        "\n",
        "#Test time\n",
        "print('Test Time(s): ',test_time)"
      ],
      "execution_count": 37,
      "outputs": [
        {
          "output_type": "stream",
          "name": "stdout",
          "text": [
            "Accuracy: 0.8698062092806808\n",
            "Precision: 0.9067164179104478\n",
            "Recall: 0.7418500885975962\n",
            "F1 Score: 0.8160394528268656\n",
            "Mean Absolute Error: 0.13019379071931925\n",
            "Cohens kappa: 0.7168424996463489\n",
            "ROC AUC: 0.8466036618918316\n",
            "Train Time(s):  67.12574144399878\n",
            "Test Time(s):  3.330456495999897\n"
          ]
        }
      ]
    },
    {
      "cell_type": "code",
      "metadata": {
        "id": "2klKFpNU8u38",
        "colab": {
          "base_uri": "https://localhost:8080/"
        },
        "outputId": "69f71839-492e-4dae-dade-5e62bf36c5bd"
      },
      "source": [
        "import timeit\n",
        "import pandas as pd\n",
        "from sklearn.model_selection import train_test_split\n",
        "from sklearn.tree import DecisionTreeClassifier\n",
        "from sklearn.linear_model import LogisticRegression\n",
        "from sklearn.ensemble import RandomForestClassifier, GradientBoostingClassifier\n",
        "from sklearn.svm import SVC\n",
        "from sklearn.neighbors import KNeighborsClassifier\n",
        "from sklearn import metrics\n",
        "from sklearn.metrics import classification_report, confusion_matrix\n",
        "import warnings\n",
        "\n",
        "# Load the dataset\n",
        "dataset = pd.read_csv('Processed_Combined_IoT_dataset.csv')\n",
        "\n",
        "# Split dataset into features and target variable\n",
        "X = dataset.drop('label', axis=1)  # Features\n",
        "y = dataset['label']  # Target variable\n",
        "\n",
        "# Split dataset into a 70% training set and a 30% test set\n",
        "X_train, X_test, y_train, y_test = train_test_split(X, y, test_size=0.3, random_state=1)\n",
        "\n",
        "# Define a dictionary of classifiers\n",
        "classifiers = {\n",
        "    'Decision Tree': DecisionTreeClassifier(),\n",
        "    'Logistic Regression': LogisticRegression(),\n",
        "    'Random Forest': RandomForestClassifier(n_estimators=100),\n",
        "    'k-NN': KNeighborsClassifier(),\n",
        "    'Gradient Boosting': GradientBoostingClassifier(),\n",
        "}\n",
        "\n",
        "# Loop through classifiers\n",
        "for clf_name, clf in classifiers.items():\n",
        "    print(f\"Training and evaluating {clf_name}...\")\n",
        "\n",
        "    # Calculate start time for training\n",
        "    start = timeit.default_timer()\n",
        "\n",
        "    # Train the model using the training set\n",
        "    clf.fit(X_train, y_train)\n",
        "\n",
        "    # Calculate stop time for training\n",
        "    stop = timeit.default_timer()\n",
        "    train_time = stop - start\n",
        "\n",
        "    # Calculate start time for testing\n",
        "    start = timeit.default_timer()\n",
        "\n",
        "    # Predict with the trained model\n",
        "    y_pred = clf.predict(X_test)\n",
        "\n",
        "    # Calculate stop time for testing\n",
        "    stop = timeit.default_timer()\n",
        "    test_time = stop - start\n",
        "\n",
        "    # Print confusion matrix and classification report\n",
        "    print(f\"Confusion Matrix ({clf_name}):\\n\", confusion_matrix(y_test, y_pred))\n",
        "    print(f\"Classification Report ({clf_name}):\\n\", classification_report(y_test, y_pred))\n",
        "\n",
        "    # Model Accuracy\n",
        "    accuracy = metrics.accuracy_score(y_test, y_pred)\n",
        "    print(f\"Accuracy ({clf_name}): {accuracy}\")\n",
        "\n",
        "    # Model Precision\n",
        "    precision = metrics.precision_score(y_test, y_pred)\n",
        "    print(f\"Precision ({clf_name}): {precision}\")\n",
        "\n",
        "    # Model Recall\n",
        "    recall = metrics.recall_score(y_test, y_pred)\n",
        "    print(f\"Recall ({clf_name}): {recall}\")\n",
        "\n",
        "    # F1 Score\n",
        "    f1_score = metrics.f1_score(y_test, y_pred)\n",
        "    print(f\"F1 Score ({clf_name}): {f1_score}\")\n",
        "\n",
        "    # Mean Absolute Error\n",
        "    mae = metrics.mean_absolute_error(y_test, y_pred)\n",
        "    print(f\"Mean Absolute Error ({clf_name}): {mae}\")\n",
        "\n",
        "    # Cohen's kappa\n",
        "    kappa = metrics.cohen_kappa_score(y_test, y_pred)\n",
        "    print(f\"Cohens kappa ({clf_name}): {kappa}\")\n",
        "\n",
        "    # ROC AUC (if applicable)\n",
        "    if clf_name != 'SVM':\n",
        "        roc_auc = metrics.roc_auc_score(y_test, y_pred)\n",
        "        print(f\"ROC AUC ({clf_name}): {roc_auc}\")\n",
        "\n",
        "    # Train time\n",
        "    print(f'Train Time ({clf_name}) (s): {train_time}')\n",
        "\n",
        "    # Test time\n",
        "    print(f'Test Time ({clf_name}) (s): {test_time}')\n",
        "    print()"
      ],
      "execution_count": 38,
      "outputs": [
        {
          "output_type": "stream",
          "name": "stdout",
          "text": [
            "Training and evaluating Decision Tree...\n",
            "Confusion Matrix (Decision Tree):\n",
            " [[69376  4119]\n",
            " [12119 34722]]\n",
            "Classification Report (Decision Tree):\n",
            "               precision    recall  f1-score   support\n",
            "\n",
            "           0       0.85      0.94      0.90     73495\n",
            "           1       0.89      0.74      0.81     46841\n",
            "\n",
            "    accuracy                           0.87    120336\n",
            "   macro avg       0.87      0.84      0.85    120336\n",
            "weighted avg       0.87      0.87      0.86    120336\n",
            "\n",
            "Accuracy (Decision Tree): 0.8650611620795107\n",
            "Precision (Decision Tree): 0.893952266934425\n",
            "Recall (Decision Tree): 0.7412736705023377\n",
            "F1 Score (Decision Tree): 0.8104852827898509\n",
            "Mean Absolute Error (Decision Tree): 0.1349388379204893\n",
            "Cohens kappa (Decision Tree): 0.7071286769059011\n",
            "ROC AUC (Decision Tree): 0.8426145208080095\n",
            "Train Time (Decision Tree) (s): 2.746584974000143\n",
            "Test Time (Decision Tree) (s): 0.04131598200001463\n",
            "\n",
            "Training and evaluating Logistic Regression...\n",
            "Confusion Matrix (Logistic Regression):\n",
            " [[71660  1835]\n",
            " [35688 11153]]\n",
            "Classification Report (Logistic Regression):\n",
            "               precision    recall  f1-score   support\n",
            "\n",
            "           0       0.67      0.98      0.79     73495\n",
            "           1       0.86      0.24      0.37     46841\n",
            "\n",
            "    accuracy                           0.69    120336\n",
            "   macro avg       0.76      0.61      0.58    120336\n",
            "weighted avg       0.74      0.69      0.63    120336\n",
            "\n",
            "Accuracy (Logistic Regression): 0.6881814253423747\n",
            "Precision (Logistic Regression): 0.8587157376039422\n",
            "Recall (Logistic Regression): 0.23810337097841636\n",
            "F1 Score (Logistic Regression): 0.3728292299720872\n",
            "Mean Absolute Error (Logistic Regression): 0.3118185746576253\n",
            "Cohens kappa (Logistic Regression): 0.24528030524565902\n",
            "ROC AUC (Logistic Regression): 0.6065678430509471\n",
            "Train Time (Logistic Regression) (s): 3.6963620520000404\n",
            "Test Time (Logistic Regression) (s): 0.010267865000059828\n",
            "\n",
            "Training and evaluating Random Forest...\n",
            "Confusion Matrix (Random Forest):\n",
            " [[69918  3577]\n",
            " [12066 34775]]\n",
            "Classification Report (Random Forest):\n",
            "               precision    recall  f1-score   support\n",
            "\n",
            "           0       0.85      0.95      0.90     73495\n",
            "           1       0.91      0.74      0.82     46841\n",
            "\n",
            "    accuracy                           0.87    120336\n",
            "   macro avg       0.88      0.85      0.86    120336\n",
            "weighted avg       0.87      0.87      0.87    120336\n",
            "\n",
            "Accuracy (Random Forest): 0.8700056508443026\n",
            "Precision (Random Forest): 0.906732373800584\n",
            "Recall (Random Forest): 0.7424051578745117\n",
            "F1 Score (Random Forest): 0.8163816275985117\n",
            "Mean Absolute Error (Random Forest): 0.12999434915569738\n",
            "Cohens kappa (Random Forest): 0.7173079505765474\n",
            "ROC AUC (Random Forest): 0.8468675901625092\n",
            "Train Time (Random Forest) (s): 70.23707944499984\n",
            "Test Time (Random Forest) (s): 3.321634768999502\n",
            "\n",
            "Training and evaluating k-NN...\n",
            "Confusion Matrix (k-NN):\n",
            " [[68951  4544]\n",
            " [15159 31682]]\n",
            "Classification Report (k-NN):\n",
            "               precision    recall  f1-score   support\n",
            "\n",
            "           0       0.82      0.94      0.87     73495\n",
            "           1       0.87      0.68      0.76     46841\n",
            "\n",
            "    accuracy                           0.84    120336\n",
            "   macro avg       0.85      0.81      0.82    120336\n",
            "weighted avg       0.84      0.84      0.83    120336\n",
            "\n",
            "Accuracy (k-NN): 0.8362667863316049\n",
            "Precision (k-NN): 0.8745652293932534\n",
            "Recall (k-NN): 0.6763732627399074\n",
            "F1 Score (k-NN): 0.7628059277450733\n",
            "Mean Absolute Error (k-NN): 0.16373321366839516\n",
            "Cohens kappa (k-NN): 0.6408817160250115\n",
            "ROC AUC (k-NN): 0.8072729637735185\n",
            "Train Time (k-NN) (s): 0.06067645400071342\n",
            "Test Time (k-NN) (s): 183.9240021229998\n",
            "\n",
            "Training and evaluating Gradient Boosting...\n",
            "Confusion Matrix (Gradient Boosting):\n",
            " [[71160  2335]\n",
            " [21232 25609]]\n",
            "Classification Report (Gradient Boosting):\n",
            "               precision    recall  f1-score   support\n",
            "\n",
            "           0       0.77      0.97      0.86     73495\n",
            "           1       0.92      0.55      0.68     46841\n",
            "\n",
            "    accuracy                           0.80    120336\n",
            "   macro avg       0.84      0.76      0.77    120336\n",
            "weighted avg       0.83      0.80      0.79    120336\n",
            "\n",
            "Accuracy (Gradient Boosting): 0.8041566945884856\n",
            "Precision (Gradient Boosting): 0.9164400229029488\n",
            "Recall (Gradient Boosting): 0.546721888943447\n",
            "F1 Score (Gradient Boosting): 0.6848699605535871\n",
            "Mean Absolute Error (Gradient Boosting): 0.19584330541151443\n",
            "Cohens kappa (Gradient Boosting): 0.5555953443181307\n",
            "ROC AUC (Gradient Boosting): 0.7574755100884322\n",
            "Train Time (Gradient Boosting) (s): 34.67502372200033\n",
            "Test Time (Gradient Boosting) (s): 0.1367933980000089\n",
            "\n"
          ]
        }
      ]
    },
    {
      "cell_type": "code",
      "source": [
        "import matplotlib.pyplot as plt\n",
        "\n",
        "# Define the classifiers and their accuracy scores\n",
        "classifiers = ['Decision Tree', 'Logistic Regression', 'Random Forest', 'k-NN', 'Gradient Boosting']\n",
        "accuracy_scores = [0.8649, 0.6882, 0.8700, 0.8363, 0.8042]  # Replace with your actual accuracy scores\n",
        "\n",
        "# Create a bar chart\n",
        "plt.figure(figsize=(10, 6))\n",
        "plt.bar(classifiers, accuracy_scores, color='skyblue')\n",
        "plt.xlabel('Classifier')\n",
        "plt.ylabel('Accuracy')\n",
        "plt.title('Accuracy Comparison of Different Classifiers')\n",
        "plt.ylim(0.6, 0.9)  # Set the y-axis range if needed\n",
        "plt.xticks(rotation=45)  # Rotate x-axis labels for better readability\n",
        "plt.tight_layout()\n",
        "plt.show()\n"
      ],
      "metadata": {
        "id": "qjtuQ4dzSNHY",
        "outputId": "eb0cc493-4261-463f-c579-1d36264baa75",
        "colab": {
          "base_uri": "https://localhost:8080/",
          "height": 607
        }
      },
      "execution_count": 39,
      "outputs": [
        {
          "output_type": "display_data",
          "data": {
            "text/plain": [
              "<Figure size 1000x600 with 1 Axes>"
            ],
            "image/png": "[encoded data removed]"
          },
          "metadata": {}
        }
      ]
    },
    {
      "cell_type": "code",
      "source": [
        "import matplotlib.pyplot as plt\n",
        "from sklearn.metrics import confusion_matrix\n",
        "\n",
        "# Define a dictionary of classifiers\n",
        "classifiers = {\n",
        "    'Decision Tree': DecisionTreeClassifier(),\n",
        "    'Logistic Regression': LogisticRegression(),\n",
        "    'Random Forest': RandomForestClassifier(n_estimators=100),\n",
        "    'k-NN': KNeighborsClassifier(),\n",
        "    'Gradient Boosting': GradientBoostingClassifier(),\n",
        "}\n",
        "\n",
        "# Loop through classifiers\n",
        "for clf_name, clf in classifiers.items():\n",
        "    # Train the model using the training set\n",
        "    clf.fit(X_train, y_train)\n",
        "\n",
        "    # Predict with the trained model\n",
        "    y_pred = clf.predict(X_test)\n",
        "\n",
        "    # Calculate the confusion matrix\n",
        "    cm = confusion_matrix(y_test, y_pred)\n",
        "\n",
        "    # Plot confusion matrix\n",
        "    plt.figure(figsize=(6, 6))\n",
        "    plt.imshow(cm, interpolation='nearest', cmap=plt.cm.Blues)\n",
        "    plt.title(f\"Confusion Matrix ({clf_name})\")\n",
        "    plt.colorbar()\n",
        "    plt.xticks([0, 1], [\"0\", \"1\"])\n",
        "    plt.yticks([0, 1], [\"0\", \"1\"])\n",
        "    plt.xlabel('Predicted')\n",
        "    plt.ylabel('True')\n",
        "    plt.show()\n"
      ],
      "metadata": {
        "id": "zoSAl8oNSQFz",
        "outputId": "03f8b3f0-892a-4dd0-c6a7-45b7c0a54155",
        "colab": {
          "base_uri": "https://localhost:8080/",
          "height": 1000
        }
      },
      "execution_count": 45,
      "outputs": [
        {
          "output_type": "display_data",
          "data": {
            "text/plain": [
              "<Figure size 600x600 with 2 Axes>"
            ],
            "image/png": "[encoded data removed]"
          },
          "metadata": {}
        },
        {
          "output_type": "display_data",
          "data": {
            "text/plain": [
              "<Figure size 600x600 with 2 Axes>"
            ],
            "image/png": "[encoded data removed]"
          },
          "metadata": {}
        },
        {
          "output_type": "display_data",
          "data": {
            "text/plain": [
              "<Figure size 600x600 with 2 Axes>"
            ],
            "image/png": "[encoded data removed]"
          },
          "metadata": {}
        },
        {
          "output_type": "display_data",
          "data": {
            "text/plain": [
              "<Figure size 600x600 with 2 Axes>"
            ],
            "image/png": "[encoded data removed]"
          },
          "metadata": {}
        },
        {
          "output_type": "display_data",
          "data": {
            "text/plain": [
              "<Figure size 600x600 with 2 Axes>"
            ],
            "image/png": "[encoded data removed]"
          },
          "metadata": {}
        }
      ]
    }
  ]
}